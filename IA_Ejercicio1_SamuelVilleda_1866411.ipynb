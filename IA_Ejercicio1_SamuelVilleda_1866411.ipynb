{
  "nbformat": 4,
  "nbformat_minor": 0,
  "metadata": {
    "colab": {
      "name": "IA_Ejercicio1_SamuelVilleda_1866411.ipynb",
      "provenance": [],
      "collapsed_sections": [],
      "authorship_tag": "ABX9TyNhyUkRBuYaCLbkcuCv+hDh",
      "include_colab_link": true
    },
    "kernelspec": {
      "name": "python3",
      "display_name": "Python 3"
    },
    "language_info": {
      "name": "python"
    }
  },
  "cells": [
    {
      "cell_type": "markdown",
      "metadata": {
        "id": "view-in-github",
        "colab_type": "text"
      },
      "source": [
        "<a href=\"https://colab.research.google.com/github/Samuel131200/LasActividadesVanAqui/blob/main/IA_Ejercicio1_SamuelVilleda_1866411.ipynb\" target=\"_parent\"><img src=\"https://colab.research.google.com/assets/colab-badge.svg\" alt=\"Open In Colab\"/></a>"
      ]
    },
    {
      "cell_type": "markdown",
      "source": [
        "Actividad 2 Ejercicios Basicos en Python, Samuel Abdiel Villeda Balderas, 1866411 y Jueves N1-N3"
      ],
      "metadata": {
        "id": "kFfnL5zhTyHg"
      }
    },
    {
      "cell_type": "markdown",
      "source": [
        "1. Escribe un programa que le pida al usuario por su nombre y que lo salude con su nombre, excepto si se llama “Ana”, “Juan”, y “Pedro”.\n",
        "\n",
        "2.Escribe una función que regrese el último elemento de una lista y que revierta el orden de la lista e imprima la lista revertida.\n",
        "\n",
        "3.Escribe una función que toma una lista de strings y los imprima línea por línea en un marco rectangular. Por ejemplo, la lista [“Hola”, “a”, “todos”, “esto”, “es”, “un”, “marco”] se imprime:"
      ],
      "metadata": {
        "id": "yGNLsr2sUoi0"
      }
    },
    {
      "cell_type": "markdown",
      "source": [
        "Ejercicio 1 "
      ],
      "metadata": {
        "id": "KWPfz2jdIxZk"
      }
    },
    {
      "cell_type": "code",
      "source": [
        "a= \"Ana\"\n",
        "b= \"Juan\"\n",
        "c= \"Pedro\"\n",
        "Nombre = input (\"Introduce tu Nombre:\")\n",
        "if a == Nombre or b == Nombre or c == Nombre:\n",
        "  print(\"Este nombre no es valido\")\n",
        "else:\n",
        "  print (\"Hola\" + Nombre + \"!\")"
      ],
      "metadata": {
        "colab": {
          "base_uri": "https://localhost:8080/"
        },
        "id": "K0D9IOhtJT2e",
        "outputId": "4284ab23-cb06-4764-e819-5866df5c479b"
      },
      "execution_count": null,
      "outputs": [
        {
          "output_type": "stream",
          "name": "stdout",
          "text": [
            "Introduce tu Nombre:Samuel\n",
            "HolaSamuel!\n"
          ]
        }
      ]
    },
    {
      "cell_type": "markdown",
      "source": [
        "Ejercicio 2 hice la lista y la reverti usando ::-1"
      ],
      "metadata": {
        "id": "6nrf8O3BGb17"
      }
    },
    {
      "cell_type": "code",
      "source": [
        "Mascotas = [\"Zeuz\",\"Maggie\",\"Hera\",\"Hades\"]\n",
        "print(Mascotas [3])\n",
        "Mascotas2 = Mascotas [::-1]\n",
        "print(Mascotas2)"
      ],
      "metadata": {
        "colab": {
          "base_uri": "https://localhost:8080/"
        },
        "id": "DjfW9QAtLuAx",
        "outputId": "42360870-4835-482f-84b6-3b5b0ddb518e"
      },
      "execution_count": null,
      "outputs": [
        {
          "output_type": "stream",
          "name": "stdout",
          "text": [
            "Hades\n",
            "['Hades', 'Hera', 'Maggie', 'Zeuz']\n"
          ]
        }
      ]
    },
    {
      "cell_type": "markdown",
      "source": [
        "Ejercicio 3\n",
        "Utilize el punto 2.5 \n",
        "For Loops y el marco lo hice manualmente "
      ],
      "metadata": {
        "id": "9dLPTQ3bKsld"
      }
    },
    {
      "cell_type": "code",
      "source": [
        "marco = [\"********\",\"* Hola *\",\"*  me  *\",\"*llamo *\",\"*Samuel*\",\"*   y  *\",\"* este *\",\"*  es  *\",\"*  mi  *\",\"*marco *\",\"********\"]\n",
        "for x in marco:\n",
        "  print (x)\n"
      ],
      "metadata": {
        "id": "_e3RRVTxL1IQ",
        "colab": {
          "base_uri": "https://localhost:8080/"
        },
        "outputId": "a376fce8-30a1-444a-fdf7-ab3040e83d13"
      },
      "execution_count": null,
      "outputs": [
        {
          "output_type": "stream",
          "name": "stdout",
          "text": [
            "********\n",
            "* Hola *\n",
            "*  me  *\n",
            "*llamo *\n",
            "*Samuel*\n",
            "*   y  *\n",
            "* este *\n",
            "*  es  *\n",
            "*  mi  *\n",
            "*marco *\n",
            "********\n"
          ]
        }
      ]
    }
  ]
}